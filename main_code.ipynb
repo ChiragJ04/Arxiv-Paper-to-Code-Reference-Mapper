{
 "cells": [
  {
   "cell_type": "code",
   "execution_count": null,
   "id": "1b1d260c",
   "metadata": {},
   "outputs": [
    {
     "data": {
      "text/plain": [
       "True"
      ]
     },
     "execution_count": 19,
     "metadata": {},
     "output_type": "execute_result"
    }
   ],
   "source": [
    "import os\n",
    "import google.generativeai as genai\n",
    "from google.genai import types\n",
    "import dotenv\n",
    "\n",
    "dotenv.load_dotenv()"
   ]
  },
  {
   "cell_type": "code",
   "execution_count": 21,
   "id": "6b7e0b04",
   "metadata": {},
   "outputs": [
    {
     "name": "stdout",
     "output_type": "stream",
     "text": [
      "PDF URL: https://arxiv.org/pdf/2406.18518.pdf\n",
      "PDF downloaded as: paper.pdf\n"
     ]
    }
   ],
   "source": [
    "paper_url = \"https://arxiv.org/abs/2406.18518\"  \n",
    "\n",
    "genai.configure(api_key=os.getenv(\"GEMINI_API_KEY\"))\n",
    "model=genai.GenerativeModel(\"gemini-2.5-flash\")\n",
    "\n",
    "# Gemini prompt to get PDF URL from the provided paper URL\n",
    "prompt = f\"\"\"\n",
    "Extract the direct PDF download link for this paper URL:\n",
    "{paper_url}\n",
    "Only return a valid downloadable link.\n",
    "\"\"\"\n",
    "\n",
    "response = model.generate_content(\n",
    "    contents=prompt\n",
    ")\n",
    "pdf_url = response.text.strip()\n",
    "print(\"PDF URL:\", pdf_url)\n",
    "\n",
    "import requests\n",
    "\n",
    "pdf_filename = \"paper.pdf\"\n",
    "with requests.get(pdf_url, stream=True) as r:\n",
    "    r.raise_for_status()\n",
    "    with open(pdf_filename, 'wb') as f:\n",
    "        for chunk in r.iter_content(chunk_size=8192):\n",
    "            if chunk:\n",
    "                f.write(chunk)\n",
    "\n",
    "print(\"PDF downloaded as:\", pdf_filename)\n"
   ]
  },
  {
   "cell_type": "code",
   "execution_count": 22,
   "id": "45999874-aed0-4fa2-92dc-318420cc83e0",
   "metadata": {},
   "outputs": [
    {
     "name": "stdout",
     "output_type": "stream",
     "text": [
      "Extracted references saved to Reference.md\n"
     ]
    }
   ],
   "source": [
    "def extract_references_from_pdf(pdf_path):\n",
    "    with open(pdf_path, \"rb\") as f:\n",
    "        pdf_bytes = f.read()\n",
    "\n",
    "    prompt = (\n",
    "        \"Read this PDF research paper. \"\n",
    "        \"Extract all references and their links in Markdown format. \"\n",
    "        \"Place main reference entries first, and external/resource links (if any) at the bottom. \"\n",
    "        \"Format: Each reference as a Markdown list item, link as [text](url).\"\n",
    "    )\n",
    "\n",
    "    response = model.generate_content(\n",
    "        contents=[\n",
    "            {\n",
    "                \"role\": \"user\",\n",
    "                \"parts\": [\n",
    "                    {\"text\": prompt},\n",
    "                    {\n",
    "                        \"inline_data\": {\n",
    "                            \"mime_type\": \"application/pdf\",\n",
    "                            \"data\": pdf_bytes\n",
    "                        }\n",
    "                    }\n",
    "                ]\n",
    "            }\n",
    "        ]\n",
    "    )\n",
    "\n",
    "    return response.text.strip()\n",
    "\n",
    "pdf_filename = \"paper.pdf\"\n",
    "references_md = extract_references_from_pdf(pdf_filename)\n",
    "\n",
    "with open(\"Reference.md\", \"w\", encoding=\"utf-8\") as f:\n",
    "    f.write(\"# References\\n\\n\" + references_md)\n",
    "\n",
    "print(\"Extracted references saved to Reference.md\")\n"
   ]
  },
  {
   "cell_type": "code",
   "execution_count": 23,
   "id": "851672fd",
   "metadata": {},
   "outputs": [
    {
     "name": "stdout",
     "output_type": "stream",
     "text": [
      "Related datasets saved to dataset.md\n"
     ]
    }
   ],
   "source": [
    "def extract_datasets_from_pdf(pdf_path):\n",
    "    with open(pdf_path, \"rb\") as f:\n",
    "        pdf_bytes = f.read()\n",
    "\n",
    "    # Prompt for Gemini: Adjust for best results with your PDFs/research area\n",
    "    prompt = (\n",
    "        \"Read this PDF research paper. \"\n",
    "        \"List ALL public/open-source datasets or benchmarks used or most relevant to this work. \"\n",
    "        \"For each, include a short description, and if possible, a direct link. \"\n",
    "        \"Format the answer as a Markdown list.\"\n",
    "    )\n",
    "\n",
    "    response = model.generate_content(\n",
    "        contents=[\n",
    "            {\n",
    "                \"role\": \"user\",\n",
    "                \"parts\": [\n",
    "                    {\"text\": prompt},\n",
    "                    {\n",
    "                        \"inline_data\": {\n",
    "                            \"mime_type\": \"application/pdf\",\n",
    "                            \"data\": pdf_bytes\n",
    "                        }\n",
    "                    }\n",
    "                ]\n",
    "            }\n",
    "        ]\n",
    "    )\n",
    "    return response.text.strip()\n",
    "\n",
    "# Usage\n",
    "datasets_md = extract_datasets_from_pdf(pdf_filename)\n",
    "with open(\"dataset.md\", \"w\", encoding=\"utf-8\") as f:\n",
    "    f.write(\"# Datasets / Benchmarks\\n\\n\" + datasets_md)\n",
    "print(\"Related datasets saved to dataset.md\")\n"
   ]
  },
  {
   "cell_type": "code",
   "execution_count": 26,
   "id": "4fe24525",
   "metadata": {},
   "outputs": [
    {
     "name": "stdout",
     "output_type": "stream",
     "text": [
      "Related code repositories saved to code-repo.md\n"
     ]
    }
   ],
   "source": [
    "def extract_code_repos_from_pdf(pdf_path):\n",
    "    with open(pdf_path, \"rb\") as f:\n",
    "        pdf_bytes = f.read()\n",
    "\n",
    "    prompt = (\n",
    "        \"Read this PDF research paper. \"\n",
    "        \"Identify all official or relevant open-source code repositories (e.g., GitHub, Hugging Face, etc) mentioned, used, or best suited for this research. \"\n",
    "        # \"For each repo, provide a short summary and its public link. \"\n",
    "        \"At last, consider the best repo, which can more effectively fulfill the provided research paper requirement and extract and provide the code from it.\"\n",
    "        \"Return your answer as a Markdown list.\"\n",
    "    )\n",
    "\n",
    "    response = model.generate_content(\n",
    "        contents=[\n",
    "            {\n",
    "                \"role\": \"user\",\n",
    "                \"parts\": [\n",
    "                    {\"text\": prompt},\n",
    "                    {\n",
    "                        \"inline_data\": {\n",
    "                            \"mime_type\": \"application/pdf\",\n",
    "                            \"data\": pdf_bytes\n",
    "                        }\n",
    "                    }\n",
    "                ]\n",
    "            }\n",
    "        ]\n",
    "    )\n",
    "    return response.text.strip()\n",
    "\n",
    "# Usage\n",
    "code_repos_md = extract_code_repos_from_pdf(pdf_filename)\n",
    "with open(\"code-repo.md\", \"w\", encoding=\"utf-8\") as f:\n",
    "    f.write(\"# Code Repositories\\n\\n\" + code_repos_md)\n",
    "print(\"Related code repositories saved to code-repo.md\")\n"
   ]
  },
  {
   "cell_type": "code",
   "execution_count": null,
   "id": "31e7f345",
   "metadata": {},
   "outputs": [],
   "source": []
  }
 ],
 "metadata": {
  "kernelspec": {
   "display_name": "Python 3",
   "language": "python",
   "name": "python3"
  },
  "language_info": {
   "codemirror_mode": {
    "name": "ipython",
    "version": 3
   },
   "file_extension": ".py",
   "mimetype": "text/x-python",
   "name": "python",
   "nbconvert_exporter": "python",
   "pygments_lexer": "ipython3",
   "version": "3.13.5"
  }
 },
 "nbformat": 4,
 "nbformat_minor": 5
}
